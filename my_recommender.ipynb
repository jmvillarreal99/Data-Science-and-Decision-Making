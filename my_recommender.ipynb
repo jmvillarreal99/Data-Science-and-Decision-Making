{
 "cells": [
  {
   "cell_type": "markdown",
   "id": "96d2709a",
   "metadata": {},
   "source": [
    "## my_recommender"
   ]
  },
  {
   "cell_type": "markdown",
   "id": "881b2339",
   "metadata": {},
   "source": [
    "By José Manuel Villarreal"
   ]
  },
  {
   "cell_type": "code",
   "execution_count": 3,
   "id": "4c85b7ab",
   "metadata": {},
   "outputs": [],
   "source": [
    "import pandas as pd\n",
    "import numpy as np"
   ]
  },
  {
   "cell_type": "code",
   "execution_count": 4,
   "id": "b3370e9e",
   "metadata": {},
   "outputs": [],
   "source": [
    "df= pd.read_csv('https://raw.githubusercontent.com/albanda/CE888/master/lab4-recommender/jester-data-1.csv',header=None)"
   ]
  },
  {
   "cell_type": "code",
   "execution_count": 5,
   "id": "83999bb5",
   "metadata": {},
   "outputs": [
    {
     "data": {
      "text/plain": [
       "<bound method NDFrame.head of        0      1      2      3      4     5      6     7     8      9    ...  \\\n",
       "0       74  -7.82   8.79  -9.66  -8.16 -7.52  -8.50 -9.85  4.17  -8.98  ...   \n",
       "1      100   4.08  -0.29   6.36   4.37 -2.38  -9.66 -0.73 -5.34   8.88  ...   \n",
       "2       49  99.00  99.00  99.00  99.00  9.03   9.27  9.03  9.27  99.00  ...   \n",
       "3       48  99.00   8.35  99.00  99.00  1.80   8.16 -2.82  6.21  99.00  ...   \n",
       "4       91   8.50   4.61  -4.17  -5.39  1.36   1.60  7.04  4.61  -0.44  ...   \n",
       "...    ...    ...    ...    ...    ...   ...    ...   ...   ...    ...  ...   \n",
       "24978  100   0.44   7.43   9.08   2.33  3.20   6.75 -8.79 -0.53  -8.74  ...   \n",
       "24979   91   9.13  -8.16   8.59   9.08  0.87  -8.93 -3.50  5.78  -8.11  ...   \n",
       "24980   39  99.00  99.00  99.00  99.00 -7.77  99.00  6.70 -6.75  99.00  ...   \n",
       "24981   37  99.00  99.00  99.00  99.00 -9.71  99.00  4.56 -8.30  99.00  ...   \n",
       "24982   72   2.43   2.67  -3.98   4.27 -2.28   7.33  2.33  4.56   6.75  ...   \n",
       "\n",
       "         91     92     93     94     95     96     97     98     99     100  \n",
       "0       2.82  99.00  99.00  99.00  99.00  99.00  -5.63  99.00  99.00  99.00  \n",
       "1       2.82  -4.95  -0.29   7.86  -0.19  -2.14   3.06   0.34  -4.32   1.07  \n",
       "2      99.00  99.00  99.00   9.08  99.00  99.00  99.00  99.00  99.00  99.00  \n",
       "3      99.00  99.00  99.00   0.53  99.00  99.00  99.00  99.00  99.00  99.00  \n",
       "4       5.19   5.58   4.27   5.19   5.73   1.55   3.11   6.55   1.80   1.60  \n",
       "...      ...    ...    ...    ...    ...    ...    ...    ...    ...    ...  \n",
       "24978   8.83  -1.21   9.22  -6.70   8.45   9.03   6.55   8.69   8.79   7.43  \n",
       "24979  -1.17  -5.73  -1.46   0.24   9.22  -8.20  -7.23  -8.59   9.13   8.45  \n",
       "24980  99.00  99.00  99.00  99.00  99.00  99.00  99.00  99.00  99.00  99.00  \n",
       "24981  99.00  99.00  99.00  99.00  99.00  99.00  99.00  99.00  99.00  99.00  \n",
       "24982  99.00  99.00  99.00  99.00  99.00  99.00  99.00  99.00  99.00  99.00  \n",
       "\n",
       "[24983 rows x 101 columns]>"
      ]
     },
     "execution_count": 5,
     "metadata": {},
     "output_type": "execute_result"
    }
   ],
   "source": [
    "df.head"
   ]
  },
  {
   "cell_type": "code",
   "execution_count": 8,
   "id": "3517492e",
   "metadata": {},
   "outputs": [],
   "source": [
    "df = df.replace(99, np.nan)\n",
    "df = df.drop([0], axis = 1)"
   ]
  },
  {
   "cell_type": "code",
   "execution_count": 9,
   "id": "44a72049",
   "metadata": {},
   "outputs": [
    {
     "data": {
      "text/plain": [
       "(24983, 100)"
      ]
     },
     "execution_count": 9,
     "metadata": {},
     "output_type": "execute_result"
    }
   ],
   "source": [
    "df.shape"
   ]
  },
  {
   "cell_type": "code",
   "execution_count": 12,
   "id": "53376c39",
   "metadata": {},
   "outputs": [
    {
     "name": "stdout",
     "output_type": "stream",
     "text": [
      "Max  3.6650848950824924 Min  -3.8338796373689963\n"
     ]
    }
   ],
   "source": [
    "#To find out the average rating of the lowest/highest\n",
    "joke_mean_sorted = sorted(df.mean())\n",
    "joke_mean_max = max(joke_mean_sorted)\n",
    "joke_mean_min = min(joke_mean_sorted)\n",
    "print('Max ', joke_mean_max, 'Min ', joke_mean_min)"
   ]
  },
  {
   "cell_type": "code",
   "execution_count": 13,
   "id": "59513834",
   "metadata": {},
   "outputs": [
    {
     "data": {
      "text/plain": [
       "4.85"
      ]
     },
     "execution_count": 13,
     "metadata": {},
     "output_type": "execute_result"
    }
   ],
   "source": [
    "#Finds specific value of user and joke\n",
    "df.iloc[20489,20]"
   ]
  },
  {
   "cell_type": "code",
   "execution_count": 16,
   "id": "64880517",
   "metadata": {},
   "outputs": [
    {
     "data": {
      "text/plain": [
       "array([[-7.82,  8.79, -9.66, ...,   nan,   nan,   nan],\n",
       "       [ 4.08, -0.29,  6.36, ...,  0.34, -4.32,  1.07],\n",
       "       [  nan,   nan,   nan, ...,   nan,   nan,   nan],\n",
       "       ...,\n",
       "       [  nan,   nan,   nan, ...,   nan,   nan,   nan],\n",
       "       [  nan,   nan,   nan, ...,   nan,   nan,   nan],\n",
       "       [ 2.43,  2.67, -3.98, ...,   nan,   nan,   nan]])"
      ]
     },
     "execution_count": 16,
     "metadata": {},
     "output_type": "execute_result"
    }
   ],
   "source": [
    "arr = df.values\n",
    "arr"
   ]
  },
  {
   "cell_type": "code",
   "execution_count": null,
   "id": "f18f1b43",
   "metadata": {},
   "outputs": [],
   "source": [
    "df[df['Factor15'] == movie_items_data['Factor15'].min() ]\n"
   ]
  },
  {
   "cell_type": "markdown",
   "id": "3f1ddb9c",
   "metadata": {},
   "source": [
    "## Movies"
   ]
  },
  {
   "cell_type": "code",
   "execution_count": 20,
   "id": "b94262f4",
   "metadata": {},
   "outputs": [],
   "source": [
    "#movies dataset\n",
    "\n",
    "#Matrix for movies and their factors\n",
    "movie_items_data = pd.read_excel('https://raw.githubusercontent.com/albanda/CE888/master/lab4-recommender/movies_latent_factors.xlsx', sheet_name='Items')\n",
    "#Matrix for users and their factors\n",
    "movie_users_data = pd.read_excel('https://raw.githubusercontent.com/albanda/CE888/master/lab4-recommender/movies_latent_factors.xlsx', sheet_name='Users')"
   ]
  },
  {
   "cell_type": "code",
   "execution_count": 21,
   "id": "d6957fcb",
   "metadata": {},
   "outputs": [
    {
     "data": {
      "text/plain": [
       "<bound method NDFrame.head of     User   Factor1   Factor2   Factor3   Factor4   Factor5   Factor6  \\\n",
       "0   4768 -0.204024  0.161079 -0.090447  0.138495 -0.162934  0.163894   \n",
       "1    156 -0.189652 -0.178979 -0.091490 -0.000823 -0.032646  0.177209   \n",
       "2   5323 -0.115308 -0.090886 -0.053129  0.018472 -0.068081 -0.004828   \n",
       "3    174 -0.227462 -0.272532 -0.017231  0.054324  0.214755 -0.072639   \n",
       "4   4529 -0.014616 -0.102218 -0.107935  0.155784 -0.123362 -0.118228   \n",
       "5    783 -0.020301 -0.031919 -0.036955  0.033690  0.000174 -0.003178   \n",
       "6   3878 -0.091462  0.215879 -0.180453  0.085408 -0.321094  0.227947   \n",
       "7    768  0.000819 -0.009229 -0.019228  0.002703  0.012869  0.006655   \n",
       "8   4469 -0.030528 -0.011537 -0.042822 -0.014378  0.031338  0.012297   \n",
       "9   1882 -0.083093 -0.029160  0.013748  0.022716 -0.062732 -0.080670   \n",
       "10  4997 -0.185443 -0.276496 -0.781275 -0.240506  0.029611 -0.271814   \n",
       "11  2067 -0.083242  0.181171 -0.344267 -0.019713 -0.243199  0.039220   \n",
       "12  3806 -0.042344 -0.040755 -0.055720 -0.073726  0.018203  0.091940   \n",
       "13  2848 -0.113283 -0.098942 -0.040393  0.042180 -0.041068 -0.039568   \n",
       "14  4433 -0.298760 -0.290228 -0.160120  0.156277 -0.055364 -0.434205   \n",
       "15  3519 -0.068454  0.020090  0.039336  0.002958 -0.018140  0.006501   \n",
       "16  5338 -0.061259  0.014661  0.011412  0.001727  0.064996 -0.078448   \n",
       "17  3947 -0.022340 -0.115285 -0.136980  0.038593 -0.003029  0.071770   \n",
       "18  4373 -0.136550 -0.089406 -0.235399  0.120585 -0.168168  0.129990   \n",
       "19  2092 -0.121763  0.011065 -0.037121  0.032568  0.017570  0.095802   \n",
       "20   525 -0.040290  0.014383 -0.098967 -0.018957  0.012388  0.035546   \n",
       "21  4327  0.008227  0.073899 -0.323967  0.131203 -0.320862  0.054997   \n",
       "22  3048 -0.320315  0.078290 -0.083182 -0.221577 -0.078184 -0.145306   \n",
       "23  2665 -0.076167 -0.006064 -0.001902 -0.053641  0.021751  0.048207   \n",
       "24  4940 -0.113099  0.047643 -0.053024  0.024834  0.010643 -0.012051   \n",
       "\n",
       "     Factor7   Factor8   Factor9  Factor10  Factor11  Factor12  Factor13  \\\n",
       "0   0.051502 -0.088582  0.126829  0.065967  0.085008  0.355404  0.007108   \n",
       "1  -0.098123 -0.068283 -0.011575  0.120866 -0.009931 -0.048606  0.045916   \n",
       "2   0.113005  0.102107  0.034758  0.000693 -0.073712 -0.019460  0.108372   \n",
       "3  -0.033122 -0.086508 -0.131479  0.180403  0.095890 -0.082396  0.036767   \n",
       "4  -0.013549 -0.050622  0.058698 -0.159600 -0.142382 -0.132836 -0.039897   \n",
       "5   0.054474  0.045424 -0.053308  0.003437 -0.041750  0.059725 -0.021647   \n",
       "6   0.053767  0.038017  0.097141 -0.139872  0.029253  0.214467  0.189250   \n",
       "7   0.007687  0.018747  0.014705 -0.009256 -0.010116 -0.010051 -0.002108   \n",
       "8  -0.000038 -0.010264 -0.006781 -0.019950 -0.014435  0.010926  0.024400   \n",
       "9  -0.019723  0.013253 -0.091305 -0.090687  0.030638 -0.113364 -0.021325   \n",
       "10 -0.056266 -0.111825 -0.290910 -0.255087 -0.098079  0.103116 -0.100563   \n",
       "11 -0.092086  0.114808 -0.036472  0.042386 -0.186812 -0.127038  0.176661   \n",
       "12  0.123959 -0.157403 -0.020388  0.082493  0.223057 -0.040915 -0.130308   \n",
       "13  0.018291 -0.191254  0.218912  0.017262 -0.087468  0.036894  0.067105   \n",
       "14 -0.089259  0.252211 -0.107413 -0.088591  0.121157  0.071371 -0.415598   \n",
       "15 -0.108526  0.025045  0.056334 -0.031291 -0.035533  0.005171  0.005546   \n",
       "16  0.059510  0.017402 -0.040234 -0.073409 -0.016323  0.031774 -0.062413   \n",
       "17 -0.146675 -0.285724 -0.044472 -0.054032  0.064019 -0.045329 -0.111919   \n",
       "18 -0.035084 -0.324028  0.087531  0.045290  0.207850 -0.028972 -0.175184   \n",
       "19  0.120238 -0.048410  0.008829  0.121778  0.093783  0.044754 -0.003087   \n",
       "20  0.000903  0.012835 -0.021080  0.018742 -0.050483 -0.025394  0.034079   \n",
       "21  0.060751  0.162314  0.044612 -0.232241  0.094986 -0.106570 -0.051692   \n",
       "22 -0.020166  0.124409 -0.063425  0.004726  0.009683  0.028016 -0.018100   \n",
       "23 -0.083980  0.146907 -0.057422  0.006085  0.063240  0.086562 -0.132328   \n",
       "24 -0.049150  0.006252  0.020429  0.004349  0.028372  0.010227 -0.008233   \n",
       "\n",
       "    Factor14  Factor15  \n",
       "0  -0.118663 -0.039125  \n",
       "1   0.113671  0.179873  \n",
       "2   0.054471 -0.109552  \n",
       "3  -0.165438  0.050692  \n",
       "4   0.129063  0.102669  \n",
       "5   0.039873 -0.061857  \n",
       "6   0.065990  0.102776  \n",
       "7   0.043223 -0.006670  \n",
       "8   0.005318 -0.007983  \n",
       "9   0.181508  0.022357  \n",
       "10  0.100164  0.043196  \n",
       "11 -0.055812 -0.000042  \n",
       "12 -0.021816  0.034549  \n",
       "13 -0.016780 -0.029503  \n",
       "14 -0.022139 -0.183021  \n",
       "15  0.020780 -0.023623  \n",
       "16  0.107708  0.065081  \n",
       "17  0.066313  0.002395  \n",
       "18 -0.058283  0.147797  \n",
       "19  0.164487 -0.075231  \n",
       "20  0.038330 -0.001341  \n",
       "21 -0.093490  0.029534  \n",
       "22 -0.128452  0.069972  \n",
       "23  0.146198  0.029200  \n",
       "24 -0.029304  0.090511  >"
      ]
     },
     "execution_count": 21,
     "metadata": {},
     "output_type": "execute_result"
    }
   ],
   "source": [
    "movie_users_data.head"
   ]
  },
  {
   "cell_type": "code",
   "execution_count": 22,
   "id": "c2afe80b",
   "metadata": {},
   "outputs": [
    {
     "data": {
      "text/html": [
       "<div>\n",
       "<style scoped>\n",
       "    .dataframe tbody tr th:only-of-type {\n",
       "        vertical-align: middle;\n",
       "    }\n",
       "\n",
       "    .dataframe tbody tr th {\n",
       "        vertical-align: top;\n",
       "    }\n",
       "\n",
       "    .dataframe thead th {\n",
       "        text-align: right;\n",
       "    }\n",
       "</style>\n",
       "<table border=\"1\" class=\"dataframe\">\n",
       "  <thead>\n",
       "    <tr style=\"text-align: right;\">\n",
       "      <th></th>\n",
       "      <th>Movie ID</th>\n",
       "      <th>Title</th>\n",
       "      <th>Factor1</th>\n",
       "      <th>Factor2</th>\n",
       "      <th>Factor3</th>\n",
       "      <th>Factor4</th>\n",
       "      <th>Factor5</th>\n",
       "      <th>Factor6</th>\n",
       "      <th>Factor7</th>\n",
       "      <th>Factor8</th>\n",
       "      <th>Factor9</th>\n",
       "      <th>Factor10</th>\n",
       "      <th>Factor11</th>\n",
       "      <th>Factor12</th>\n",
       "      <th>Factor13</th>\n",
       "      <th>Factor14</th>\n",
       "      <th>Factor15</th>\n",
       "    </tr>\n",
       "  </thead>\n",
       "  <tbody>\n",
       "    <tr>\n",
       "      <th>66</th>\n",
       "      <td>809</td>\n",
       "      <td>Shrek 2 (2004)</td>\n",
       "      <td>1.174964</td>\n",
       "      <td>-0.410389</td>\n",
       "      <td>0.239468</td>\n",
       "      <td>1.727501</td>\n",
       "      <td>-0.652589</td>\n",
       "      <td>-0.316079</td>\n",
       "      <td>0.643108</td>\n",
       "      <td>0.26102</td>\n",
       "      <td>-2.325862</td>\n",
       "      <td>0.893878</td>\n",
       "      <td>0.079652</td>\n",
       "      <td>0.702775</td>\n",
       "      <td>-0.927681</td>\n",
       "      <td>-0.10223</td>\n",
       "      <td>-1.368161</td>\n",
       "    </tr>\n",
       "  </tbody>\n",
       "</table>\n",
       "</div>"
      ],
      "text/plain": [
       "    Movie ID           Title   Factor1   Factor2   Factor3   Factor4  \\\n",
       "66       809  Shrek 2 (2004)  1.174964 -0.410389  0.239468  1.727501   \n",
       "\n",
       "     Factor5   Factor6   Factor7  Factor8   Factor9  Factor10  Factor11  \\\n",
       "66 -0.652589 -0.316079  0.643108  0.26102 -2.325862  0.893878  0.079652   \n",
       "\n",
       "    Factor12  Factor13  Factor14  Factor15  \n",
       "66  0.702775 -0.927681  -0.10223 -1.368161  "
      ]
     },
     "execution_count": 22,
     "metadata": {},
     "output_type": "execute_result"
    }
   ],
   "source": [
    "movie_items_data[movie_items_data['Movie ID'] == 809]"
   ]
  },
  {
   "cell_type": "code",
   "execution_count": 23,
   "id": "7e457666",
   "metadata": {},
   "outputs": [
    {
     "data": {
      "text/html": [
       "<div>\n",
       "<style scoped>\n",
       "    .dataframe tbody tr th:only-of-type {\n",
       "        vertical-align: middle;\n",
       "    }\n",
       "\n",
       "    .dataframe tbody tr th {\n",
       "        vertical-align: top;\n",
       "    }\n",
       "\n",
       "    .dataframe thead th {\n",
       "        text-align: right;\n",
       "    }\n",
       "</style>\n",
       "<table border=\"1\" class=\"dataframe\">\n",
       "  <thead>\n",
       "    <tr style=\"text-align: right;\">\n",
       "      <th></th>\n",
       "      <th>Movie ID</th>\n",
       "      <th>Title</th>\n",
       "      <th>Factor1</th>\n",
       "      <th>Factor2</th>\n",
       "      <th>Factor3</th>\n",
       "      <th>Factor4</th>\n",
       "      <th>Factor5</th>\n",
       "      <th>Factor6</th>\n",
       "      <th>Factor7</th>\n",
       "      <th>Factor8</th>\n",
       "      <th>Factor9</th>\n",
       "      <th>Factor10</th>\n",
       "      <th>Factor11</th>\n",
       "      <th>Factor12</th>\n",
       "      <th>Factor13</th>\n",
       "      <th>Factor14</th>\n",
       "      <th>Factor15</th>\n",
       "    </tr>\n",
       "  </thead>\n",
       "  <tbody>\n",
       "    <tr>\n",
       "      <th>4</th>\n",
       "      <td>22</td>\n",
       "      <td>Pirates of the Caribbean: The Curse of the Bla...</td>\n",
       "      <td>0.517348</td>\n",
       "      <td>-1.456763</td>\n",
       "      <td>0.369161</td>\n",
       "      <td>0.073903</td>\n",
       "      <td>-0.098332</td>\n",
       "      <td>-0.594722</td>\n",
       "      <td>0.828888</td>\n",
       "      <td>0.033626</td>\n",
       "      <td>-0.707414</td>\n",
       "      <td>0.717877</td>\n",
       "      <td>1.394326</td>\n",
       "      <td>-0.786986</td>\n",
       "      <td>1.429191</td>\n",
       "      <td>0.855746</td>\n",
       "      <td>-2.292566</td>\n",
       "    </tr>\n",
       "  </tbody>\n",
       "</table>\n",
       "</div>"
      ],
      "text/plain": [
       "   Movie ID                                              Title   Factor1  \\\n",
       "4        22  Pirates of the Caribbean: The Curse of the Bla...  0.517348   \n",
       "\n",
       "    Factor2   Factor3   Factor4   Factor5   Factor6   Factor7   Factor8  \\\n",
       "4 -1.456763  0.369161  0.073903 -0.098332 -0.594722  0.828888  0.033626   \n",
       "\n",
       "    Factor9  Factor10  Factor11  Factor12  Factor13  Factor14  Factor15  \n",
       "4 -0.707414  0.717877  1.394326 -0.786986  1.429191  0.855746 -2.292566  "
      ]
     },
     "execution_count": 23,
     "metadata": {},
     "output_type": "execute_result"
    }
   ],
   "source": [
    "movie_items_data[movie_items_data['Factor15'] == movie_items_data['Factor15'].min() ]\n"
   ]
  },
  {
   "cell_type": "code",
   "execution_count": 24,
   "id": "126291cf",
   "metadata": {},
   "outputs": [],
   "source": [
    "def recommend_movie(user, num_recommendations):\n",
    "  user = np.array(movie_users_data[movie_users_data['User'] == user].loc[:,'Factor1':])\n",
    "  scores = pd.DataFrame(columns=['ratings','Movie'])\n",
    "  movie_id = movie_items_data['Movie ID']\n",
    "  count = 0\n",
    "  for i in movie_items_data.drop(['Movie ID'],axis=1).values:\n",
    "    rating = user.dot(i[1:].reshape(-1,1))\n",
    "    movie_dict = {'ratings':rating,'Movie':i[0],'Movie ID':movie_id[count]}\n",
    "    scores = scores.append(movie_dict, ignore_index=True)\n",
    "    count += 1\n",
    "  return scores.sort_values('ratings', ascending=False).head(num_recommendations)\n"
   ]
  },
  {
   "cell_type": "code",
   "execution_count": 25,
   "id": "f69fde6e",
   "metadata": {},
   "outputs": [
    {
     "data": {
      "text/html": [
       "<div>\n",
       "<style scoped>\n",
       "    .dataframe tbody tr th:only-of-type {\n",
       "        vertical-align: middle;\n",
       "    }\n",
       "\n",
       "    .dataframe tbody tr th {\n",
       "        vertical-align: top;\n",
       "    }\n",
       "\n",
       "    .dataframe thead th {\n",
       "        text-align: right;\n",
       "    }\n",
       "</style>\n",
       "<table border=\"1\" class=\"dataframe\">\n",
       "  <thead>\n",
       "    <tr style=\"text-align: right;\">\n",
       "      <th></th>\n",
       "      <th>ratings</th>\n",
       "      <th>Movie</th>\n",
       "      <th>Movie ID</th>\n",
       "    </tr>\n",
       "  </thead>\n",
       "  <tbody>\n",
       "    <tr>\n",
       "      <th>10</th>\n",
       "      <td>[[0.3078232584009633]]</td>\n",
       "      <td>Gladiator (2000)</td>\n",
       "      <td>98.0</td>\n",
       "    </tr>\n",
       "    <tr>\n",
       "      <th>47</th>\n",
       "      <td>[[0.2803491433062951]]</td>\n",
       "      <td>Titanic (1997)</td>\n",
       "      <td>597.0</td>\n",
       "    </tr>\n",
       "    <tr>\n",
       "      <th>39</th>\n",
       "      <td>[[0.2605601213335598]]</td>\n",
       "      <td>A Beautiful Mind (2001)</td>\n",
       "      <td>453.0</td>\n",
       "    </tr>\n",
       "  </tbody>\n",
       "</table>\n",
       "</div>"
      ],
      "text/plain": [
       "                   ratings                    Movie  Movie ID\n",
       "10  [[0.3078232584009633]]         Gladiator (2000)      98.0\n",
       "47  [[0.2803491433062951]]           Titanic (1997)     597.0\n",
       "39  [[0.2605601213335598]]  A Beautiful Mind (2001)     453.0"
      ]
     },
     "execution_count": 25,
     "metadata": {},
     "output_type": "execute_result"
    }
   ],
   "source": [
    "recommend_movie(525, 3)"
   ]
  },
  {
   "cell_type": "code",
   "execution_count": 26,
   "id": "28acdfb9",
   "metadata": {},
   "outputs": [
    {
     "data": {
      "text/html": [
       "<div>\n",
       "<style scoped>\n",
       "    .dataframe tbody tr th:only-of-type {\n",
       "        vertical-align: middle;\n",
       "    }\n",
       "\n",
       "    .dataframe tbody tr th {\n",
       "        vertical-align: top;\n",
       "    }\n",
       "\n",
       "    .dataframe thead th {\n",
       "        text-align: right;\n",
       "    }\n",
       "</style>\n",
       "<table border=\"1\" class=\"dataframe\">\n",
       "  <thead>\n",
       "    <tr style=\"text-align: right;\">\n",
       "      <th></th>\n",
       "      <th>ratings</th>\n",
       "      <th>Movie</th>\n",
       "      <th>Movie ID</th>\n",
       "    </tr>\n",
       "  </thead>\n",
       "  <tbody>\n",
       "    <tr>\n",
       "      <th>50</th>\n",
       "      <td>[[1.209425481454199]]</td>\n",
       "      <td>The Matrix (1999)</td>\n",
       "      <td>603.0</td>\n",
       "    </tr>\n",
       "    <tr>\n",
       "      <th>11</th>\n",
       "      <td>[[1.0655785146297094]]</td>\n",
       "      <td>Back to the Future (1985)</td>\n",
       "      <td>105.0</td>\n",
       "    </tr>\n",
       "    <tr>\n",
       "      <th>35</th>\n",
       "      <td>[[0.9502755549013626]]</td>\n",
       "      <td>Jurassic Park (1993)</td>\n",
       "      <td>329.0</td>\n",
       "    </tr>\n",
       "  </tbody>\n",
       "</table>\n",
       "</div>"
      ],
      "text/plain": [
       "                   ratings                      Movie  Movie ID\n",
       "50   [[1.209425481454199]]          The Matrix (1999)     603.0\n",
       "11  [[1.0655785146297094]]  Back to the Future (1985)     105.0\n",
       "35  [[0.9502755549013626]]       Jurassic Park (1993)     329.0"
      ]
     },
     "execution_count": 26,
     "metadata": {},
     "output_type": "execute_result"
    }
   ],
   "source": [
    "recommend_movie(4373, 3)"
   ]
  },
  {
   "cell_type": "code",
   "execution_count": 29,
   "id": "9532fa5f",
   "metadata": {},
   "outputs": [
    {
     "data": {
      "text/plain": [
       "array([[-0.2394966]])"
      ]
     },
     "execution_count": 29,
     "metadata": {},
     "output_type": "execute_result"
    }
   ],
   "source": [
    "np.array(movie_users_data[movie_users_data['User'] == 2067].loc[:,'Factor1':]).dot(np.array(movie_items_data[movie_items_data['Movie ID']==11].loc[:,'Factor1':]).reshape(-1,1))\n"
   ]
  },
  {
   "cell_type": "code",
   "execution_count": null,
   "id": "fae92dbd",
   "metadata": {},
   "outputs": [],
   "source": []
  }
 ],
 "metadata": {
  "kernelspec": {
   "display_name": "Python 3 (ipykernel)",
   "language": "python",
   "name": "python3"
  },
  "language_info": {
   "codemirror_mode": {
    "name": "ipython",
    "version": 3
   },
   "file_extension": ".py",
   "mimetype": "text/x-python",
   "name": "python",
   "nbconvert_exporter": "python",
   "pygments_lexer": "ipython3",
   "version": "3.9.1"
  }
 },
 "nbformat": 4,
 "nbformat_minor": 5
}
